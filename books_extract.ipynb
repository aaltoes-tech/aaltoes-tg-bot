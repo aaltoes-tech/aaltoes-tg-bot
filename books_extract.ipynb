{
 "cells": [
  {
   "cell_type": "code",
   "execution_count": null,
   "metadata": {},
   "outputs": [],
   "source": [
    "import os\n",
    "from time import sleep\n",
    "import dotenv\n",
    "import pandas as pd\n",
    "import base64\n",
    "import json\n",
    "from openai import OpenAI\n",
    "from tqdm import tqdm\n",
    "\n",
    "# Load environment variables\n",
    "dotenv.load_dotenv()\n",
    "OPENAI_API_KEY = os.getenv(\"OPENAI_API_KEY\")\n",
    "\n",
    "# Initialize OpenAI client\n",
    "client = OpenAI(api_key=OPENAI_API_KEY)\n",
    "\n",
    "# Load book metadata\n",
    "books = pd.read_csv(\"books/Aaltoes Library Books.csv\")\n",
    "books['book_image'] = \"books/books_images/\" + books['book_id'].astype(str) + \".jpeg\"\n",
    "\n",
    "# Dictionary to store the results\n",
    "fetched_data = {}\n"
   ]
  },
  {
   "cell_type": "code",
   "execution_count": 48,
   "metadata": {},
   "outputs": [
    {
     "name": "stderr",
     "output_type": "stream",
     "text": [
      "Processing books:   1%|          | 1/132 [00:08<18:01,  8.25s/it]"
     ]
    },
    {
     "name": "stdout",
     "output_type": "stream",
     "text": [
      "{'author': 'M. Scott Peck, M.D.', 'year': '1978', 'title': 'The Road Less Traveled', 'description': 'This book explores the importance of self-discipline, love, and spiritual growth, offering insights into personal development and the challenges of life.'}\n"
     ]
    },
    {
     "name": "stderr",
     "output_type": "stream",
     "text": [
      "Processing books:   2%|▏         | 2/132 [00:10<10:50,  5.00s/it]"
     ]
    },
    {
     "name": "stdout",
     "output_type": "stream",
     "text": [
      "{'author': 'Don Tapscott and Anthony D. Williams', 'year': '2006', 'title': 'Wikinomics: How Mass Collaboration Changes Everything', 'description': 'This book explores how mass collaboration through the internet transforms business, society, and the economy, highlighting the power of collective intelligence and the impact of digital technologies.'}\n"
     ]
    },
    {
     "name": "stderr",
     "output_type": "stream",
     "text": [
      "Processing books:   2%|▏         | 3/132 [00:13<08:41,  4.04s/it]"
     ]
    },
    {
     "name": "stdout",
     "output_type": "stream",
     "text": [
      "{'author': 'Hemant Taneja with Kevin Maney', 'year': '2021', 'title': 'Unscaled - How AI and a New Generation of Upstarts Are Creating the Economy of the Future', 'description': 'This book explores how AI and innovative startups are reshaping the economy, emphasizing the shift from traditional scaling to unscaled business models that leverage technology for efficiency and growth.'}\n"
     ]
    },
    {
     "name": "stderr",
     "output_type": "stream",
     "text": [
      "Processing books:   3%|▎         | 4/132 [00:20<10:58,  5.15s/it]"
     ]
    },
    {
     "name": "stdout",
     "output_type": "stream",
     "text": [
      "{'author': 'Petteri Kilpinen', 'year': None, 'title': 'Inspiroitunut', 'description': 'This book explores leadership and success in a changing work environment, offering insights and strategies for navigating modern challenges.'}\n"
     ]
    },
    {
     "name": "stderr",
     "output_type": "stream",
     "text": [
      "Processing books:   4%|▍         | 5/132 [00:22<08:31,  4.03s/it]"
     ]
    },
    {
     "name": "stdout",
     "output_type": "stream",
     "text": [
      "{'author': 'Richard Carlson', 'year': None, 'title': 'älä hikeenny raha-asioista', 'description': 'This book offers practical advice on managing financial stress and encourages readers to adopt a more relaxed approach to money matters, emphasizing the importance of peace of mind over financial worries.'}\n"
     ]
    },
    {
     "name": "stderr",
     "output_type": "stream",
     "text": [
      "Processing books:   5%|▍         | 6/132 [00:24<06:53,  3.28s/it]"
     ]
    },
    {
     "name": "stdout",
     "output_type": "stream",
     "text": [
      "{'author': 'Pekka A. Viljakainen, Mark Mueller-Eberstein', 'year': None, 'title': 'No Fear', 'description': 'This book explores business leadership in the digital age, emphasizing innovative thinking and adaptability. It features insights from various contributors questioning traditional leadership paradigms.'}\n"
     ]
    },
    {
     "name": "stderr",
     "output_type": "stream",
     "text": [
      "Processing books:   6%|▌         | 8/132 [00:26<04:36,  2.23s/it]"
     ]
    },
    {
     "name": "stdout",
     "output_type": "stream",
     "text": [
      "{'author': 'William G. Dyer', 'year': None, 'title': 'Team Building - Issues and Alternatives Second Edition', 'description': 'This book explores various aspects of team building, addressing common issues and presenting alternative strategies to enhance team effectiveness and collaboration.'}\n"
     ]
    },
    {
     "name": "stderr",
     "output_type": "stream",
     "text": [
      "Processing books:   7%|▋         | 9/132 [00:28<04:24,  2.15s/it]"
     ]
    },
    {
     "name": "stdout",
     "output_type": "stream",
     "text": [
      "{'author': 'Artiom Dashinsky', 'year': None, 'title': 'Solving Product Design Exercises', 'description': 'This book provides practical exercises and insights to enhance product design and UX skills, helping readers prepare for job interviews in the field.'}\n"
     ]
    },
    {
     "name": "stderr",
     "output_type": "stream",
     "text": [
      "Processing books:   8%|▊         | 10/132 [00:31<04:46,  2.35s/it]"
     ]
    },
    {
     "name": "stdout",
     "output_type": "stream",
     "text": [
      "{'author': 'Sssi Kiviranta, Matias Maenpää, Petteri Poukka', 'year': None, 'title': 'Exit vol 2', 'description': 'This volume features 16 inspiring true stories of Finnish entrepreneurs, showcasing their journeys and experiences in the business world.'}\n",
      "Sleeping for 60 seconds. Counter: 10\n"
     ]
    },
    {
     "name": "stderr",
     "output_type": "stream",
     "text": [
      "Processing books:   8%|▊         | 11/132 [01:35<39:11, 19.44s/it]"
     ]
    },
    {
     "name": "stdout",
     "output_type": "stream",
     "text": [
      "{'author': None, 'year': None, 'title': 'toivo pekkanen runoilijana', 'description': 'This book explores the life and works of Toivo Pekkanen, a notable Finnish poet, highlighting his contributions to literature and the themes present in his poetry.'}\n"
     ]
    },
    {
     "name": "stderr",
     "output_type": "stream",
     "text": [
      "Processing books:   9%|▉         | 12/132 [01:37<29:15, 14.63s/it]"
     ]
    },
    {
     "name": "stdout",
     "output_type": "stream",
     "text": [
      "{'author': 'Timo Ahopelto', 'year': None, 'title': 'Sand Hill Road', 'description': 'This book explores the venture capital landscape, focusing on the dynamics of investment and innovation in Silicon Valley, providing insights into the challenges and opportunities faced by entrepreneurs.'}\n"
     ]
    },
    {
     "name": "stderr",
     "output_type": "stream",
     "text": [
      "Processing books:  10%|▉         | 13/132 [01:40<22:04, 11.13s/it]"
     ]
    },
    {
     "name": "stdout",
     "output_type": "stream",
     "text": [
      "{'author': 'Sirkku Heinonen, Rea Klingberg, Päivi Pentti', 'year': None, 'title': 'Kaikkien aivot käyttöön', 'description': 'This book explores strategies for enhancing cognitive abilities and utilizing brain power effectively in various contexts, aiming to improve learning and productivity.'}\n"
     ]
    },
    {
     "name": "stderr",
     "output_type": "stream",
     "text": [
      "Processing books:  11%|█         | 14/132 [01:42<16:53,  8.59s/it]"
     ]
    },
    {
     "name": "stdout",
     "output_type": "stream",
     "text": [
      "{'author': 'Erin Meyer', 'year': '2014', 'title': 'The Culture Map', 'description': 'This book explores how cultural differences impact global business interactions, providing insights on communication, leadership, and negotiation across various cultures.'}\n"
     ]
    },
    {
     "name": "stderr",
     "output_type": "stream",
     "text": [
      "Processing books:  11%|█▏        | 15/132 [01:46<13:53,  7.13s/it]"
     ]
    },
    {
     "name": "stdout",
     "output_type": "stream",
     "text": [
      "{'author': 'Risto Havunen – Anna Lavikkala', 'year': None, 'title': 'Ongelma ratkaiseva', 'description': 'This book focuses on problem-solving strategies for leaders, offering practical insights and tools to tackle challenges effectively in various organizational contexts.'}\n"
     ]
    },
    {
     "name": "stderr",
     "output_type": "stream",
     "text": [
      "Processing books:  12%|█▏        | 16/132 [01:49<11:19,  5.86s/it]"
     ]
    },
    {
     "name": "stdout",
     "output_type": "stream",
     "text": [
      "{'author': 'Pekka A. Viljakainen, Mark Mueller-Eberstein', 'year': None, 'title': 'No Fear', 'description': 'This book explores business leadership in the digital age, emphasizing the importance of adaptability and innovative thinking. It features insights from various contributors questioning traditional leadership paradigms.'}\n"
     ]
    },
    {
     "name": "stderr",
     "output_type": "stream",
     "text": [
      "Processing books:  13%|█▎        | 17/132 [01:52<09:45,  5.09s/it]"
     ]
    },
    {
     "name": "stdout",
     "output_type": "stream",
     "text": [
      "{'author': 'Terho Puustinen & Mika Mäkeläinen', 'year': None, 'title': 'taivas + helvetti', 'description': 'This book explores the journeys of entrepreneurs who faced significant challenges and losses but ultimately found success. It offers insights into resilience and the entrepreneurial spirit.'}\n"
     ]
    },
    {
     "name": "stderr",
     "output_type": "stream",
     "text": [
      "Processing books:  14%|█▎        | 18/132 [01:56<08:46,  4.62s/it]"
     ]
    },
    {
     "name": "stdout",
     "output_type": "stream",
     "text": [
      "{'author': 'DON PEPPERS and MARTHA ROGERS, Ph.D.', 'year': '1993', 'title': 'The One to One Manager', 'description': 'This book offers insights into customer relationship management, emphasizing personalized service and strategies to enhance customer loyalty and satisfaction.'}\n"
     ]
    },
    {
     "name": "stderr",
     "output_type": "stream",
     "text": [
      "Processing books:  14%|█▍        | 19/132 [01:58<07:38,  4.06s/it]"
     ]
    },
    {
     "name": "stdout",
     "output_type": "stream",
     "text": [
      "{'author': 'Dr. Cristian Grossmann', 'year': None, 'title': 'The Rise of the Frontline Worker', 'description': 'This book explores how organizations can leverage their frontline workforce to gain a competitive advantage, emphasizing the importance of empowering and engaging these essential workers.'}\n"
     ]
    },
    {
     "name": "stderr",
     "output_type": "stream",
     "text": [
      "Processing books:  15%|█▌        | 20/132 [02:01<07:03,  3.78s/it]"
     ]
    },
    {
     "name": "stdout",
     "output_type": "stream",
     "text": [
      "{'author': 'Hemant Taneja & Stephen Klasko', 'year': None, 'title': 'UnHealthcare: A Manifesto for Health Assurance', 'description': 'This book advocates for a transformative approach to healthcare, emphasizing health assurance over traditional healthcare models, aiming to improve outcomes and reduce costs.'}\n",
      "Sleeping for 60 seconds. Counter: 20\n"
     ]
    },
    {
     "name": "stderr",
     "output_type": "stream",
     "text": [
      "Processing books:  16%|█▌        | 21/132 [03:06<40:30, 21.89s/it]"
     ]
    },
    {
     "name": "stdout",
     "output_type": "stream",
     "text": [
      "{'author': 'Patrick Lencioni', 'year': '2002', 'title': 'Viisi toimintahäiriötä tiimissä', 'description': 'This book explores five dysfunctions that hinder team performance, providing insights on how to overcome them to build a cohesive and effective team.'}\n"
     ]
    },
    {
     "name": "stderr",
     "output_type": "stream",
     "text": [
      "Processing books:  17%|█▋        | 22/132 [03:08<29:22, 16.02s/it]"
     ]
    },
    {
     "name": "stdout",
     "output_type": "stream",
     "text": [
      "{'author': 'Paul Polman + Andrew Winston', 'year': '2021', 'title': 'net positive', 'description': 'This book explores how companies can thrive by adopting a net positive approach, focusing on giving more to society and the environment than they take, ultimately leading to sustainable business practices.'}\n"
     ]
    },
    {
     "name": "stderr",
     "output_type": "stream",
     "text": [
      "Processing books:  17%|█▋        | 23/132 [03:10<21:38, 11.92s/it]"
     ]
    },
    {
     "name": "stdout",
     "output_type": "stream",
     "text": [
      "{'author': 'Paul Polman + Andrew Winston', 'year': '2021', 'title': 'net positive', 'description': 'This book explores how companies can thrive by adopting a net positive approach, emphasizing the importance of giving back to society and the environment while achieving business success.'}\n"
     ]
    },
    {
     "name": "stderr",
     "output_type": "stream",
     "text": [
      "Processing books:  18%|█▊        | 24/132 [03:13<16:33,  9.20s/it]"
     ]
    },
    {
     "name": "stdout",
     "output_type": "stream",
     "text": [
      "{'author': None, 'year': None, 'title': 'notebook for great ideas or just random scribbles', 'description': 'A versatile notebook designed for jotting down ideas, sketches, or random thoughts. Perfect for anyone looking to capture inspiration on the go.'}\n"
     ]
    },
    {
     "name": "stderr",
     "output_type": "stream",
     "text": [
      "Processing books:  19%|█▉        | 25/132 [03:16<12:54,  7.24s/it]"
     ]
    },
    {
     "name": "stdout",
     "output_type": "stream",
     "text": [
      "{'author': 'Timo Ahopelto', 'year': None, 'title': 'Sand Hill Road', 'description': 'This novel explores the high-stakes world of venture capital and the personal and professional challenges faced by those navigating it, blending elements of suspense and drama.'}\n"
     ]
    },
    {
     "name": "stderr",
     "output_type": "stream",
     "text": [
      "Processing books:  20%|█▉        | 26/132 [03:19<10:45,  6.09s/it]"
     ]
    },
    {
     "name": "stdout",
     "output_type": "stream",
     "text": [
      "{'author': 'Anneli Valpola', 'year': None, 'title': 'Kehityskeskustelun mahdollisuudet', 'description': 'This book explores the possibilities of development discussions in various contexts, emphasizing the importance of effective communication and feedback in personal and professional growth.'}\n"
     ]
    },
    {
     "name": "stderr",
     "output_type": "stream",
     "text": [
      "Processing books:  20%|██        | 27/132 [03:22<09:05,  5.20s/it]"
     ]
    },
    {
     "name": "stdout",
     "output_type": "stream",
     "text": [
      "{'author': 'Franklin Becker / Fritz Steele', 'year': '1999', 'title': 'Workplace by Design', 'description': 'This book explores the relationship between workplace design and organizational performance, offering insights on creating high-performance work environments that enhance productivity and collaboration.'}\n"
     ]
    },
    {
     "name": "stderr",
     "output_type": "stream",
     "text": [
      "Processing books:  21%|██        | 28/132 [03:25<07:26,  4.29s/it]"
     ]
    },
    {
     "name": "stdout",
     "output_type": "stream",
     "text": [
      "{'author': 'Linda Liukas', 'year': '2015', 'title': 'Hello Ruby: Adventures in Coding', 'description': 'This whimsical book introduces children to the world of computers and programming through engaging stories and activities, making coding fun and accessible.'}\n"
     ]
    },
    {
     "name": "stderr",
     "output_type": "stream",
     "text": [
      "Processing books:  22%|██▏       | 29/132 [03:27<06:39,  3.87s/it]"
     ]
    },
    {
     "name": "stdout",
     "output_type": "stream",
     "text": [
      "{'author': 'Linda Liukas', 'year': '2015', 'title': 'Hello Ruby: Adventures in Coding', 'description': 'This book introduces children to the world of computers and programming through fun stories and activities, encouraging creativity and problem-solving skills.'}\n"
     ]
    },
    {
     "name": "stderr",
     "output_type": "stream",
     "text": [
      "Processing books:  23%|██▎       | 30/132 [03:31<06:18,  3.71s/it]"
     ]
    },
    {
     "name": "stdout",
     "output_type": "stream",
     "text": [
      "{'author': 'Linda Liukas', 'year': '2015', 'title': 'Hello Ruby: Adventures in Coding', 'description': 'This whimsical book introduces children to the world of computers and programming through engaging stories and activities, making coding fun and accessible.'}\n",
      "Sleeping for 60 seconds. Counter: 30\n"
     ]
    },
    {
     "name": "stderr",
     "output_type": "stream",
     "text": [
      "Processing books:  23%|██▎       | 31/132 [04:33<36:01, 21.40s/it]"
     ]
    },
    {
     "name": "stdout",
     "output_type": "stream",
     "text": [
      "{'author': 'Henry Chesbrough', 'year': '2003', 'title': 'Open Innovation - The New Imperative for Creating and Profiting from Technology', 'description': 'This book introduces the concept of open innovation, emphasizing the importance of external ideas and collaboration in the innovation process to enhance technology development and profitability.'}\n"
     ]
    },
    {
     "name": "stderr",
     "output_type": "stream",
     "text": [
      "Processing books:  24%|██▍       | 32/132 [06:08<1:12:15, 43.36s/it]"
     ]
    },
    {
     "name": "stdout",
     "output_type": "stream",
     "text": [
      "{'author': None, 'year': None, 'title': 'Start up guide berlin vol 2', 'description': \"This guide provides insights into Berlin's vibrant startup ecosystem, featuring resources, interviews, and tips for entrepreneurs looking to navigate the city's unique business landscape.\"}\n"
     ]
    },
    {
     "name": "stderr",
     "output_type": "stream",
     "text": [
      "Processing books:  25%|██▌       | 33/132 [06:10<51:07, 30.98s/it]  "
     ]
    },
    {
     "name": "stdout",
     "output_type": "stream",
     "text": [
      "{'author': 'Scott Berkun', 'year': None, 'title': 'Projektinhallinnan taito', 'description': 'This book offers practical insights into project management, emphasizing effective planning, execution, and leadership. It provides strategies for overcoming common challenges and improving team collaboration.'}\n"
     ]
    },
    {
     "name": "stderr",
     "output_type": "stream",
     "text": [
      "Processing books:  26%|██▌       | 34/132 [06:12<36:16, 22.21s/it]"
     ]
    },
    {
     "name": "stdout",
     "output_type": "stream",
     "text": [
      "{'author': 'Alvy Ray Smith', 'year': None, 'title': 'A Biography of the Pixel', 'description': \"This book explores the history and evolution of the pixel, detailing its significance in digital art and technology, as well as the author's experiences as a co-founder of Pixar.\"}\n"
     ]
    },
    {
     "name": "stderr",
     "output_type": "stream",
     "text": [
      "Processing books:  27%|██▋       | 35/132 [06:14<26:11, 16.20s/it]"
     ]
    },
    {
     "name": "stdout",
     "output_type": "stream",
     "text": [
      "{'author': 'Reid Hoffman, Chris Yeh', 'year': '2018', 'title': 'Blitzscaling: The Lightning-Fast Path to Building Massively Valuable Companies', 'description': 'This book explores the concept of blitzscaling, a strategy for rapidly growing a company to achieve market dominance, emphasizing speed over efficiency in uncertain environments.'}\n"
     ]
    },
    {
     "name": "stderr",
     "output_type": "stream",
     "text": [
      "Processing books:  27%|██▋       | 36/132 [06:16<19:07, 11.95s/it]"
     ]
    },
    {
     "name": "stdout",
     "output_type": "stream",
     "text": [
      "{'author': 'Karl Wahlin', 'year': None, 'title': 'Tillämpad statistik', 'description': 'This book serves as an introductory course in applied statistics, covering fundamental concepts and methods used in statistical analysis.'}\n"
     ]
    },
    {
     "name": "stderr",
     "output_type": "stream",
     "text": [
      "Processing books:  28%|██▊       | 37/132 [06:20<15:00,  9.48s/it]"
     ]
    },
    {
     "name": "stdout",
     "output_type": "stream",
     "text": [
      "{'author': 'Nils G Storhagen', 'year': None, 'title': 'Logistik - grunder och möjligheter', 'description': 'This book provides foundational knowledge and insights into logistics, exploring its principles and opportunities within the field. It serves as a guide for understanding logistics management and its significance in various industries.'}\n"
     ]
    },
    {
     "name": "stderr",
     "output_type": "stream",
     "text": [
      "Processing books:  29%|██▉       | 38/132 [06:29<14:39,  9.35s/it]"
     ]
    },
    {
     "name": "stdout",
     "output_type": "stream",
     "text": [
      "{'author': 'Alexander Osterwalder, Yves Pigneur', 'year': '2010', 'title': 'Business Model Generation', 'description': 'This book provides a comprehensive guide to creating innovative business models. It introduces the Business Model Canvas, a strategic tool for visualizing and designing business models.'}\n"
     ]
    },
    {
     "name": "stderr",
     "output_type": "stream",
     "text": [
      "Processing books:  30%|██▉       | 39/132 [06:33<12:04,  7.79s/it]"
     ]
    },
    {
     "name": "stdout",
     "output_type": "stream",
     "text": [
      "{'author': 'Jaakko Lindgren, Roope Mokka, Aleksi Neuvonen, Antti Toponen', 'year': None, 'title': 'Digitalisaatio', 'description': 'This book explores the impact of digitalization on society, examining its challenges and opportunities. It provides insights into how digital transformation shapes various sectors and everyday life.'}\n"
     ]
    },
    {
     "name": "stderr",
     "output_type": "stream",
     "text": [
      "Processing books:  30%|███       | 40/132 [06:36<09:31,  6.21s/it]"
     ]
    },
    {
     "name": "stdout",
     "output_type": "stream",
     "text": [
      "{'author': 'Don Tapscott and Alex Tapscott', 'year': '2016', 'title': 'Blockchain Revolution', 'description': 'This book explores how blockchain technology is transforming money, business, and society, highlighting its potential to create a more secure and transparent world.'}\n",
      "Sleeping for 60 seconds. Counter: 40\n"
     ]
    },
    {
     "name": "stderr",
     "output_type": "stream",
     "text": [
      "Processing books:  31%|███       | 41/132 [07:42<36:56, 24.35s/it]"
     ]
    },
    {
     "name": "stdout",
     "output_type": "stream",
     "text": [
      "{'author': 'Walter Isaacson', 'year': '2011', 'title': 'Steve Jobs', 'description': 'This biography explores the life and career of Steve Jobs, co-founder of Apple Inc., detailing his innovations, leadership style, and the impact he had on technology and design.'}\n"
     ]
    },
    {
     "name": "stderr",
     "output_type": "stream",
     "text": [
      "Processing books:  32%|███▏      | 42/132 [07:45<26:38, 17.76s/it]"
     ]
    },
    {
     "name": "stdout",
     "output_type": "stream",
     "text": [
      "{'author': 'Alvy Ray Smith', 'year': None, 'title': 'A Biography of the Pixel', 'description': 'This book explores the history and significance of the pixel in digital art and technology, highlighting its evolution and impact on modern visual culture.'}\n"
     ]
    },
    {
     "name": "stderr",
     "output_type": "stream",
     "text": [
      "Processing books:  33%|███▎      | 43/132 [07:47<19:35, 13.20s/it]"
     ]
    },
    {
     "name": "stdout",
     "output_type": "stream",
     "text": [
      "{'author': 'Robert M. Grant', 'year': '2010', 'title': 'Contemporary Strategy Analysis', 'description': 'This book provides a comprehensive overview of strategic management, integrating theory and practice. It emphasizes analytical tools and frameworks to help managers make informed decisions in a competitive environment.'}\n"
     ]
    },
    {
     "name": "stderr",
     "output_type": "stream",
     "text": [
      "Processing books:  33%|███▎      | 44/132 [07:50<14:50, 10.12s/it]"
     ]
    },
    {
     "name": "stdout",
     "output_type": "stream",
     "text": [
      "{'author': 'General Stanley McChrystal, Jeff Eggers, Jason Mangone', 'year': '2015', 'title': 'Leaders: Myth and Reality', 'description': 'This book explores the true nature of leadership, debunking common myths and providing insights from military and civilian leaders to illustrate effective leadership principles.'}\n"
     ]
    },
    {
     "name": "stderr",
     "output_type": "stream",
     "text": [
      "Processing books:  34%|███▍      | 45/132 [07:53<11:37,  8.02s/it]"
     ]
    },
    {
     "name": "stdout",
     "output_type": "stream",
     "text": [
      "{'author': 'Leif Rylander', 'year': None, 'title': 'the Winners take it all', 'description': 'This book explores how technology-based startups can transform inventions into successful innovations, emphasizing the strategies and mindsets necessary for success in the competitive landscape of entrepreneurship.'}\n"
     ]
    },
    {
     "name": "stderr",
     "output_type": "stream",
     "text": [
      "Processing books:  35%|███▍      | 46/132 [07:56<09:26,  6.59s/it]"
     ]
    },
    {
     "name": "stdout",
     "output_type": "stream",
     "text": [
      "{'author': 'Pia Lappalainen, Markku Markkula, Hank Kune', 'year': None, 'title': 'Orchestrating Regional Innovation Ecosystems', 'description': 'This book explores the dynamics of regional innovation ecosystems, focusing on collaborative strategies and frameworks that foster innovation and economic growth, particularly in the context of the Espoo Innovation Garden.'}\n"
     ]
    },
    {
     "name": "stderr",
     "output_type": "stream",
     "text": [
      "Processing books:  36%|███▌      | 47/132 [08:02<08:43,  6.16s/it]"
     ]
    },
    {
     "name": "stdout",
     "output_type": "stream",
     "text": [
      "{'author': 'Timothy Ferriss', 'year': '2017', 'title': 'Tribe of Mentors', 'description': 'A collection of life and business advice from successful individuals across various fields, offering insights and strategies to help readers navigate their own paths.'}\n"
     ]
    },
    {
     "name": "stderr",
     "output_type": "stream",
     "text": [
      "Processing books:  36%|███▋      | 48/132 [08:05<07:20,  5.25s/it]"
     ]
    },
    {
     "name": "stdout",
     "output_type": "stream",
     "text": [
      "{'author': 'Greg Satell', 'year': None, 'title': 'Cascades: How to Create a Movement That Drives Transformational Change', 'description': 'This book explores how to initiate and sustain large-scale change by creating movements that resonate with people, emphasizing the importance of storytelling and community engagement.'}\n"
     ]
    },
    {
     "name": "stderr",
     "output_type": "stream",
     "text": [
      "Processing books:  37%|███▋      | 49/132 [08:08<06:17,  4.55s/it]"
     ]
    },
    {
     "name": "stdout",
     "output_type": "stream",
     "text": [
      "{'author': 'Timo Ahopelto', 'year': None, 'title': 'Sand Hill Road', 'description': 'This novel explores the complexities of life and relationships against the backdrop of the Silicon Valley venture capital scene, blending personal struggles with the high-stakes world of startups.'}\n"
     ]
    },
    {
     "name": "stderr",
     "output_type": "stream",
     "text": [
      "Processing books:  39%|███▊      | 51/132 [08:10<04:08,  3.07s/it]"
     ]
    },
    {
     "name": "stdout",
     "output_type": "stream",
     "text": [
      "Sleeping for 60 seconds. Counter: 50\n"
     ]
    },
    {
     "name": "stderr",
     "output_type": "stream",
     "text": [
      "Processing books:  39%|███▉      | 52/132 [09:14<23:57, 17.97s/it]"
     ]
    },
    {
     "name": "stdout",
     "output_type": "stream",
     "text": [
      "{'author': 'Nick Bilton', 'year': '2013', 'title': 'Hatching Twitter', 'description': 'This book chronicles the tumultuous rise of Twitter, detailing the conflicts, friendships, and betrayals among its founders as they navigate the challenges of building a revolutionary social media platform.'}\n"
     ]
    },
    {
     "name": "stderr",
     "output_type": "stream",
     "text": [
      "Processing books:  40%|████      | 53/132 [09:20<19:34, 14.86s/it]"
     ]
    },
    {
     "name": "stdout",
     "output_type": "stream",
     "text": [
      "{'author': 'Dave Gray, Sunni Brown, James Macanufo', 'year': '2010', 'title': 'Game Storming - A Playbook for Innovators, Rulebreakers, and Changemakers', 'description': 'This book provides tools and techniques for creative collaboration, helping teams innovate and solve problems through engaging activities and visual thinking.'}\n"
     ]
    },
    {
     "name": "stderr",
     "output_type": "stream",
     "text": [
      "Processing books:  41%|████      | 54/132 [09:22<14:58, 11.52s/it]"
     ]
    },
    {
     "name": "stdout",
     "output_type": "stream",
     "text": [
      "{'author': 'Timo Ahopelto', 'year': None, 'title': 'Kasvu-yrittäjän runokirja 1', 'description': 'A collection of poems aimed at entrepreneurs, blending inspiration and practical insights to foster growth and creativity in business.'}\n"
     ]
    },
    {
     "name": "stderr",
     "output_type": "stream",
     "text": [
      "Processing books:  42%|████▏     | 56/132 [09:25<08:55,  7.04s/it]"
     ]
    },
    {
     "name": "stdout",
     "output_type": "stream",
     "text": [
      "{'author': 'Alex Osterwalder, Yves Pigneur, Greg Bernarda, Alan Smith', 'year': '2014', 'title': 'Value Proposition Design', 'description': 'This book provides a framework for creating products and services that meet customer needs, helping businesses design compelling value propositions through practical tools and techniques.'}\n"
     ]
    },
    {
     "name": "stderr",
     "output_type": "stream",
     "text": [
      "Processing books:  43%|████▎     | 57/132 [09:28<07:36,  6.09s/it]"
     ]
    },
    {
     "name": "stdout",
     "output_type": "stream",
     "text": [
      "{'author': 'Richard Branson', 'year': '1998', 'title': \"Losing My Virginity: How I've Survived, Had Fun, and Made a Fortune Doing Business My Way\", 'description': \"This autobiography chronicles Richard Branson's adventurous life as an entrepreneur, detailing his journey in building the Virgin Group and his philosophy on business and life.\"}\n"
     ]
    },
    {
     "name": "stderr",
     "output_type": "stream",
     "text": [
      "Processing books:  44%|████▍     | 58/132 [09:30<06:25,  5.21s/it]"
     ]
    },
    {
     "name": "stdout",
     "output_type": "stream",
     "text": [
      "{'author': 'Leonard Kim, Ryan Foland', 'year': '2020', 'title': 'Ditch the Act - Reveal the Surprising Power of the Real You for Greater Success', 'description': 'This book encourages readers to embrace authenticity and vulnerability, highlighting how being genuine can lead to greater personal and professional success.'}\n"
     ]
    },
    {
     "name": "stderr",
     "output_type": "stream",
     "text": [
      "Processing books:  45%|████▍     | 59/132 [09:36<06:17,  5.18s/it]"
     ]
    },
    {
     "name": "stdout",
     "output_type": "stream",
     "text": [
      "{'author': 'Timo Ahopelto', 'year': None, 'title': 'Sand Hill Road', 'description': \"A gripping narrative that explores the intersection of ambition, risk, and the dark side of the startup culture, set against the backdrop of Silicon Valley's infamous Sand Hill Road.\"}\n"
     ]
    },
    {
     "name": "stderr",
     "output_type": "stream",
     "text": [
      "Processing books:  45%|████▌     | 60/132 [09:38<05:19,  4.44s/it]"
     ]
    },
    {
     "name": "stdout",
     "output_type": "stream",
     "text": [
      "{'author': 'Timo Ahopelto', 'year': None, 'title': 'Sand Hill Road', 'description': 'This book explores the venture capital landscape, focusing on the dynamics of funding startups and the challenges entrepreneurs face in Silicon Valley.'}\n"
     ]
    },
    {
     "name": "stderr",
     "output_type": "stream",
     "text": [
      "Processing books:  46%|████▌     | 61/132 [09:42<05:07,  4.33s/it]"
     ]
    },
    {
     "name": "stdout",
     "output_type": "stream",
     "text": [
      "{'author': 'Eeva Eronen', 'year': None, 'title': 'Jättiläisen askeleet matka kiinan talouteen', 'description': \"This book explores the complexities of China's economy, detailing its rapid growth and the challenges it faces. Eronen provides insights into the cultural and political factors influencing economic development.\"}\n"
     ]
    },
    {
     "name": "stderr",
     "output_type": "stream",
     "text": [
      "Processing books:  47%|████▋     | 62/132 [09:44<04:07,  3.53s/it]"
     ]
    },
    {
     "name": "stdout",
     "output_type": "stream",
     "text": [
      "Sleeping for 60 seconds. Counter: 60\n"
     ]
    },
    {
     "name": "stderr",
     "output_type": "stream",
     "text": [
      "Processing books:  48%|████▊     | 63/132 [10:48<24:30, 21.31s/it]"
     ]
    },
    {
     "name": "stdout",
     "output_type": "stream",
     "text": [
      "{'author': 'Margaret Heffernan', 'year': '2021', 'title': 'Uncharted: How to Navigate the Future', 'description': 'This book explores how to navigate uncertainty and complexity in the modern world, emphasizing the importance of collaboration, adaptability, and understanding the unpredictable nature of the future.'}\n"
     ]
    },
    {
     "name": "stderr",
     "output_type": "stream",
     "text": [
      "Processing books:  48%|████▊     | 64/132 [10:51<18:03, 15.94s/it]"
     ]
    },
    {
     "name": "stdout",
     "output_type": "stream",
     "text": [
      "{'author': 'John Brooks', 'year': '1969', 'title': 'Business Adventures - Twelve Classic Tales from the World of Wall Street', 'description': \"This collection of twelve stories explores the ups and downs of the stock market, illustrating key events and personalities in Wall Street's history, making it a timeless read for business enthusiasts.\"}\n"
     ]
    },
    {
     "name": "stderr",
     "output_type": "stream",
     "text": [
      "Processing books:  49%|████▉     | 65/132 [10:54<13:21, 11.97s/it]"
     ]
    },
    {
     "name": "stdout",
     "output_type": "stream",
     "text": [
      "{'author': 'Timo Ahopelto', 'year': None, 'title': 'Sand Hill Road', 'description': 'This novel explores the high-stakes world of venture capital and the personal and professional challenges faced by those navigating it, blending elements of suspense and drama.'}\n"
     ]
    },
    {
     "name": "stderr",
     "output_type": "stream",
     "text": [
      "Processing books:  50%|█████     | 66/132 [11:01<11:32, 10.49s/it]"
     ]
    },
    {
     "name": "stdout",
     "output_type": "stream",
     "text": [
      "{'author': 'Timo Ahopelto', 'year': '2021', 'title': 'Sand Hill Road', 'description': 'This book explores the world of venture capital, detailing the challenges and strategies of startups seeking funding. It provides insights into the dynamics of Silicon Valley and the investment landscape.'}\n"
     ]
    },
    {
     "name": "stderr",
     "output_type": "stream",
     "text": [
      "Processing books:  51%|█████     | 67/132 [11:03<08:44,  8.07s/it]"
     ]
    },
    {
     "name": "stdout",
     "output_type": "stream",
     "text": [
      "{'author': 'Timo Ahopelto', 'year': None, 'title': 'Sand Hill Road', 'description': 'This book explores the dynamics of venture capital and entrepreneurship, focusing on the challenges and opportunities in the startup ecosystem, particularly in Silicon Valley.'}\n"
     ]
    },
    {
     "name": "stderr",
     "output_type": "stream",
     "text": [
      "Processing books:  52%|█████▏    | 68/132 [11:06<07:01,  6.58s/it]"
     ]
    },
    {
     "name": "stdout",
     "output_type": "stream",
     "text": [
      "{'author': 'Benjamin Graham', 'year': '1949', 'title': 'The Intelligent Investor', 'description': 'A foundational text on value investing, it emphasizes the importance of a disciplined approach to investing and offers strategies for minimizing risk while maximizing returns.'}\n"
     ]
    },
    {
     "name": "stderr",
     "output_type": "stream",
     "text": [
      "Processing books:  52%|█████▏    | 69/132 [11:09<05:49,  5.55s/it]"
     ]
    },
    {
     "name": "stdout",
     "output_type": "stream",
     "text": [
      "{'author': 'Petteri Kilpinen', 'year': None, 'title': 'Inspiroitunut', 'description': 'This book explores leadership and success in a changing work environment, offering insights and strategies for navigating modern challenges.'}\n"
     ]
    },
    {
     "name": "stderr",
     "output_type": "stream",
     "text": [
      "Processing books:  53%|█████▎    | 70/132 [11:18<06:33,  6.34s/it]"
     ]
    },
    {
     "name": "stdout",
     "output_type": "stream",
     "text": [
      "{'author': 'Raija Rapo & Marita Seulamo-Vargas', 'year': '2010', 'title': 'Silicon Valley Journey', 'description': 'This book explores the experiences of Finnish IT startups during the dot-com boom and their evolution up to 2010, highlighting challenges and successes in the dynamic landscape of Silicon Valley.'}\n"
     ]
    },
    {
     "name": "stderr",
     "output_type": "stream",
     "text": [
      "Processing books:  54%|█████▍    | 71/132 [11:22<05:58,  5.87s/it]"
     ]
    },
    {
     "name": "stdout",
     "output_type": "stream",
     "text": [
      "{'author': None, 'year': '2018', 'title': 'The Nordics Together - Uniting the Nordic Startup Ecosystem: Rising North Impact Fund 2016 - 2018', 'description': 'This book explores the collaboration within the Nordic startup ecosystem, highlighting the impact of the Rising North initiative from 2016 to 2018.'}\n"
     ]
    },
    {
     "name": "stderr",
     "output_type": "stream",
     "text": [
      "Processing books:  55%|█████▍    | 72/132 [11:24<04:32,  4.55s/it]"
     ]
    },
    {
     "name": "stdout",
     "output_type": "stream",
     "text": [
      "Sleeping for 60 seconds. Counter: 70\n"
     ]
    },
    {
     "name": "stderr",
     "output_type": "stream",
     "text": [
      "Processing books:  55%|█████▌    | 73/132 [12:28<21:58, 22.35s/it]"
     ]
    },
    {
     "name": "stdout",
     "output_type": "stream",
     "text": [
      "{'author': None, 'year': None, 'title': 'The Nordics Together - Uniting the Nordic Startup Ecosystem: Rising North Impact Fund 2016 - 2018', 'description': 'This book explores the collaboration within the Nordic startup ecosystem, highlighting the initiatives and impact of the Rising North Impact Fund from 2016 to 2018.'}\n"
     ]
    },
    {
     "name": "stderr",
     "output_type": "stream",
     "text": [
      "Processing books:  56%|█████▌    | 74/132 [12:31<15:57, 16.52s/it]"
     ]
    },
    {
     "name": "stdout",
     "output_type": "stream",
     "text": [
      "{'author': None, 'year': None, 'title': 'The Nordics Together - Uniting the Nordic Startup Ecosystem: Rising North Impact Fund 2016 - 2018', 'description': 'This book explores the collaboration within the Nordic startup ecosystem, highlighting the initiatives and impact of the Rising North Impact Fund from 2016 to 2018.'}\n"
     ]
    },
    {
     "name": "stderr",
     "output_type": "stream",
     "text": [
      "Processing books:  57%|█████▋    | 75/132 [12:40<13:37, 14.34s/it]"
     ]
    },
    {
     "name": "stdout",
     "output_type": "stream",
     "text": [
      "{'author': 'Kardo Hämäläinen & Mika Mäkeläinen', 'year': None, 'title': 'Taivas + helvetti vol.2', 'description': 'This book explores themes of success and failure, emphasizing the importance of collaboration and mutual support in achieving goals. It is a continuation of the insights presented in the first volume.'}\n"
     ]
    },
    {
     "name": "stderr",
     "output_type": "stream",
     "text": [
      "Processing books:  58%|█████▊    | 76/132 [12:43<10:12, 10.94s/it]"
     ]
    },
    {
     "name": "stdout",
     "output_type": "stream",
     "text": [
      "{'author': 'Karo Hämäläinen & Mika Mäkeläinen', 'year': None, 'title': 'Taivas + helvetti vol.2', 'description': 'This book explores themes of success and failure, emphasizing the interconnectedness of individual journeys. It serves as a motivational guide, encouraging readers to reflect on their paths and the impact of their choices.'}\n"
     ]
    },
    {
     "name": "stderr",
     "output_type": "stream",
     "text": [
      "Processing books:  58%|█████▊    | 77/132 [12:46<07:55,  8.65s/it]"
     ]
    },
    {
     "name": "stdout",
     "output_type": "stream",
     "text": [
      "{'author': 'Karo Hämäläinen', 'year': None, 'title': 'Yrittäjän taivas + helvetti vol 3', 'description': 'This book explores the highs and lows of entrepreneurship, offering insights and experiences that resonate with business owners. It combines personal stories with practical advice to inspire and motivate readers.'}\n"
     ]
    },
    {
     "name": "stderr",
     "output_type": "stream",
     "text": [
      "Processing books:  59%|█████▉    | 78/132 [12:49<06:08,  6.83s/it]"
     ]
    },
    {
     "name": "stdout",
     "output_type": "stream",
     "text": [
      "{'author': 'Daniel H. Pink', 'year': '2018', 'title': 'When: The Scientific Secrets of Perfect Timing', 'description': 'This book explores the science of timing, revealing how the right timing can enhance productivity and well-being. Pink provides insights into daily rhythms and how to optimize our schedules for better outcomes.'}\n"
     ]
    },
    {
     "name": "stderr",
     "output_type": "stream",
     "text": [
      "Processing books:  60%|█████▉    | 79/132 [12:52<05:12,  5.90s/it]"
     ]
    },
    {
     "name": "stdout",
     "output_type": "stream",
     "text": [
      "{'author': 'James D. Stein, Herbert L. Stone, Charles V. Harlow', 'year': None, 'title': 'Miten ampua lonkalta osumatta varpaisiinsa', 'description': 'This book focuses on making strategic decisions effectively and continuously, providing insights and techniques for better decision-making in business contexts.'}\n"
     ]
    },
    {
     "name": "stderr",
     "output_type": "stream",
     "text": [
      "Processing books:  61%|██████    | 80/132 [12:56<04:34,  5.28s/it]"
     ]
    },
    {
     "name": "stdout",
     "output_type": "stream",
     "text": [
      "{'author': 'Timothy Ferriss', 'year': '2007', 'title': 'The 4-Hour Workweek', 'description': 'This book offers strategies to escape the 9-5 grind, automate income, and live a more fulfilling life. It encourages readers to rethink work and lifestyle, promoting the idea of mini-retirements and remote work.'}\n"
     ]
    },
    {
     "name": "stderr",
     "output_type": "stream",
     "text": [
      "Processing books:  61%|██████▏   | 81/132 [12:59<03:51,  4.53s/it]"
     ]
    },
    {
     "name": "stdout",
     "output_type": "stream",
     "text": [
      "{'author': None, 'year': '2020', 'title': 'Rise FinTech Insights', 'description': 'This publication offers insights into the fintech industry, showcasing trends, innovations, and key players. It serves as a resource for understanding the evolving landscape of financial technology.'}\n"
     ]
    },
    {
     "name": "stderr",
     "output_type": "stream",
     "text": [
      "Processing books:  62%|██████▏   | 82/132 [13:00<02:59,  3.59s/it]"
     ]
    },
    {
     "name": "stdout",
     "output_type": "stream",
     "text": [
      "Sleeping for 60 seconds. Counter: 80\n"
     ]
    },
    {
     "name": "stderr",
     "output_type": "stream",
     "text": [
      "Processing books:  63%|██████▎   | 83/132 [14:04<17:30, 21.44s/it]"
     ]
    },
    {
     "name": "stdout",
     "output_type": "stream",
     "text": [
      "{'author': 'Yves Doz ja Mikko Kosonen', 'year': None, 'title': 'Nopea strategia', 'description': 'This book explores how strategic agility helps organizations stay competitive in rapidly changing environments, offering insights and frameworks for effective strategic management.'}\n"
     ]
    },
    {
     "name": "stderr",
     "output_type": "stream",
     "text": [
      "Processing books:  64%|██████▎   | 84/132 [14:07<12:46, 15.98s/it]"
     ]
    },
    {
     "name": "stdout",
     "output_type": "stream",
     "text": [
      "{'author': 'Michael Blowfield, Alan Murray', 'year': None, 'title': 'corporate responsibility a critical introduction', 'description': 'This book provides a comprehensive overview of corporate responsibility, exploring its significance, challenges, and implications for businesses and society. It critically examines various perspectives and practices in the field.'}\n"
     ]
    },
    {
     "name": "stderr",
     "output_type": "stream",
     "text": [
      "Processing books:  64%|██████▍   | 85/132 [14:09<09:19, 11.91s/it]"
     ]
    },
    {
     "name": "stdout",
     "output_type": "stream",
     "text": [
      "{'author': None, 'year': None, 'title': 'AVP storybook', 'description': None}\n"
     ]
    },
    {
     "name": "stderr",
     "output_type": "stream",
     "text": [
      "Processing books:  65%|██████▌   | 86/132 [14:12<07:02,  9.18s/it]"
     ]
    },
    {
     "name": "stdout",
     "output_type": "stream",
     "text": [
      "{'author': 'Miikka Leinonen', 'year': None, 'title': 'Strategy of Giving', 'description': 'This book explores the principles and strategies behind effective giving, emphasizing the impact of generosity on personal and societal levels.'}\n"
     ]
    },
    {
     "name": "stderr",
     "output_type": "stream",
     "text": [
      "Processing books:  66%|██████▌   | 87/132 [14:14<05:20,  7.13s/it]"
     ]
    },
    {
     "name": "stdout",
     "output_type": "stream",
     "text": [
      "{'author': 'Leena Peltola', 'year': None, 'title': 'Liikeideasta liikkeelle', 'description': 'This book focuses on transforming business ideas into actionable plans, providing insights and strategies for entrepreneurs to effectively launch and manage their ventures.'}\n"
     ]
    },
    {
     "name": "stderr",
     "output_type": "stream",
     "text": [
      "Processing books:  67%|██████▋   | 88/132 [14:18<04:21,  5.94s/it]"
     ]
    },
    {
     "name": "stdout",
     "output_type": "stream",
     "text": [
      "{'author': 'Anna Perho', 'year': None, 'title': 'Pientä säätöä', 'description': 'A light-hearted guide to everyday life, offering practical tips and insights on managing daily challenges with humor and creativity.'}\n"
     ]
    },
    {
     "name": "stderr",
     "output_type": "stream",
     "text": [
      "Processing books:  67%|██████▋   | 89/132 [14:21<03:44,  5.21s/it]"
     ]
    },
    {
     "name": "stdout",
     "output_type": "stream",
     "text": [
      "{'author': 'Nir Eyal', 'year': '2014', 'title': 'Hooked - How to Build Habit-Forming Products', 'description': 'This book explores the psychology behind why some products become habits. It provides a framework for creating engaging products that keep users coming back, focusing on triggers, actions, rewards, and investment.'}\n"
     ]
    },
    {
     "name": "stderr",
     "output_type": "stream",
     "text": [
      "Processing books:  68%|██████▊   | 90/132 [14:24<03:06,  4.43s/it]"
     ]
    },
    {
     "name": "stdout",
     "output_type": "stream",
     "text": [
      "{'author': 'Rob Fitzpatrick', 'year': '2013', 'title': 'The Mom Test', 'description': 'This book teaches entrepreneurs how to effectively talk to customers and validate business ideas, ensuring they get honest feedback rather than polite lies.'}\n"
     ]
    },
    {
     "name": "stderr",
     "output_type": "stream",
     "text": [
      "Processing books:  69%|██████▉   | 91/132 [14:27<02:53,  4.23s/it]"
     ]
    },
    {
     "name": "stdout",
     "output_type": "stream",
     "text": [
      "{'author': None, 'year': '2012', 'title': 'AVP storybook', 'description': 'The AVP Storybook captures the essence of the AVP (Athlete Volunteer Program), showcasing inspiring stories and experiences of athletes involved in community service and volunteerism.'}\n"
     ]
    },
    {
     "name": "stderr",
     "output_type": "stream",
     "text": [
      "Processing books:  70%|██████▉   | 92/132 [14:30<02:27,  3.69s/it]"
     ]
    },
    {
     "name": "stdout",
     "output_type": "stream",
     "text": [
      "{'author': 'Juhani Talvela, Anne Hassinen, Marjut Honkasalo, Timo Nyberg', 'year': None, 'title': 'Idea, Keskintö ja Maailmanvalloitus', 'description': 'This book explores the themes of innovation and global influence, celebrating 50 years of the Keksintösäätiö (Innovation Foundation) and its impact on technology and society.'}\n",
      "Sleeping for 60 seconds. Counter: 90\n"
     ]
    },
    {
     "name": "stderr",
     "output_type": "stream",
     "text": [
      "Processing books:  70%|███████   | 93/132 [15:32<13:46, 21.18s/it]"
     ]
    },
    {
     "name": "stdout",
     "output_type": "stream",
     "text": [
      "{'author': None, 'year': '2001', 'title': 'Avauksia tietämyksen hallintaan', 'description': 'This book discusses the management of knowledge and technology assessment, providing insights into future-oriented evaluations and strategies.'}\n"
     ]
    },
    {
     "name": "stderr",
     "output_type": "stream",
     "text": [
      "Processing books:  71%|███████   | 94/132 [15:57<14:15, 22.51s/it]"
     ]
    },
    {
     "name": "stdout",
     "output_type": "stream",
     "text": [
      "{'author': 'Juhani Talvela, Anne Hassinen, Marjut Honkasalo, Timo Nyberg', 'year': None, 'title': 'Idea, Keksintö ja Maailmanvalloitus', 'description': 'This book explores innovation and its impact on global development, celebrating 50 years of the Keksintösäätiö foundation and its contributions to technology and society.'}\n"
     ]
    },
    {
     "name": "stderr",
     "output_type": "stream",
     "text": [
      "Processing books:  72%|███████▏  | 95/132 [16:00<10:16, 16.66s/it]"
     ]
    },
    {
     "name": "stdout",
     "output_type": "stream",
     "text": [
      "{'author': 'Arianna Huffington', 'year': '2014', 'title': 'Thrive', 'description': \"In 'Thrive', Arianna Huffington explores the importance of well-being and redefining success beyond money and power, emphasizing the need for a balanced life that includes wellness, wisdom, and wonder.\"}\n"
     ]
    },
    {
     "name": "stderr",
     "output_type": "stream",
     "text": [
      "Processing books:  73%|███████▎  | 96/132 [16:03<07:23, 12.33s/it]"
     ]
    },
    {
     "name": "stdout",
     "output_type": "stream",
     "text": [
      "{'author': 'Timo Ahopelto', 'year': None, 'title': 'Sand Hill Road', 'description': 'This novel explores the high-stakes world of venture capital and entrepreneurship, delving into the lives of those navigating the challenges and opportunities of Silicon Valley.'}\n"
     ]
    },
    {
     "name": "stderr",
     "output_type": "stream",
     "text": [
      "Processing books:  73%|███████▎  | 97/132 [16:05<05:25,  9.31s/it]"
     ]
    },
    {
     "name": "stdout",
     "output_type": "stream",
     "text": [
      "{'author': 'Cath Bishop', 'year': '2022', 'title': 'The Long Win', 'description': 'This book explores the concept of success beyond traditional metrics, advocating for a more holistic approach to achievement that values long-term fulfillment and well-being.'}\n"
     ]
    },
    {
     "name": "stderr",
     "output_type": "stream",
     "text": [
      "Processing books:  74%|███████▍  | 98/132 [16:08<04:09,  7.35s/it]"
     ]
    },
    {
     "name": "stdout",
     "output_type": "stream",
     "text": [
      "{'author': None, 'year': None, 'title': 'Vesi - elämän lähde', 'description': 'This book explores the significance of water as a vital resource for life, highlighting its ecological importance and the need for conservation.'}\n"
     ]
    },
    {
     "name": "stderr",
     "output_type": "stream",
     "text": [
      "Processing books:  75%|███████▌  | 99/132 [16:11<03:20,  6.08s/it]"
     ]
    },
    {
     "name": "stdout",
     "output_type": "stream",
     "text": [
      "{'author': None, 'year': None, 'title': 'The Nordics Together - Uniting the Nordic Startup Ecosystem: Rising North Impact Fund 2016 - 2018', 'description': 'This book explores the collaboration within the Nordic startup ecosystem, highlighting initiatives and impacts of the Rising North Impact Fund from 2016 to 2018.'}\n"
     ]
    },
    {
     "name": "stderr",
     "output_type": "stream",
     "text": [
      "Processing books:  76%|███████▌  | 100/132 [16:14<02:50,  5.33s/it]"
     ]
    },
    {
     "name": "stdout",
     "output_type": "stream",
     "text": [
      "{'author': None, 'year': '1998', 'title': 'Uusmedia kuluttajan silmin', 'description': 'This book explores the impact of new media on consumer behavior, analyzing how digital media influences perceptions and interactions in the modern world.'}\n"
     ]
    },
    {
     "name": "stderr",
     "output_type": "stream",
     "text": [
      "Processing books:  77%|███████▋  | 101/132 [16:18<02:26,  4.71s/it]"
     ]
    },
    {
     "name": "stdout",
     "output_type": "stream",
     "text": [
      "{'author': None, 'year': '2019', 'title': 'Pelago Bicycles', 'description': \"This book showcases Pelago's bicycle designs, emphasizing craftsmanship, utility, and aesthetics. It reflects the brand's philosophy of creating functional and beautiful bicycles for urban cycling.\"}\n"
     ]
    },
    {
     "name": "stderr",
     "output_type": "stream",
     "text": [
      "Processing books:  77%|███████▋  | 102/132 [16:20<02:03,  4.13s/it]"
     ]
    },
    {
     "name": "stdout",
     "output_type": "stream",
     "text": [
      "{'author': 'Jerry Colangelo', 'year': '2001', 'title': 'How You Play the Game', 'description': 'This book offers insights and lessons from the sports industry, emphasizing the importance of integrity, teamwork, and leadership in both sports and life.'}\n",
      "Sleeping for 60 seconds. Counter: 100\n"
     ]
    },
    {
     "name": "stderr",
     "output_type": "stream",
     "text": [
      "Processing books:  78%|███████▊  | 103/132 [17:25<10:43, 22.19s/it]"
     ]
    },
    {
     "name": "stdout",
     "output_type": "stream",
     "text": [
      "{'author': None, 'year': None, 'title': 'Boundless Design', 'description': 'This book explores the diverse perspectives of Finnish applied arts, showcasing innovative designs and cultural influences that shape the field.'}\n"
     ]
    },
    {
     "name": "stderr",
     "output_type": "stream",
     "text": [
      "Processing books:  79%|███████▉  | 104/132 [17:27<07:35, 16.26s/it]"
     ]
    },
    {
     "name": "stdout",
     "output_type": "stream",
     "text": [
      "{'author': 'Monika Jansson', 'year': None, 'title': 'Rosenrött hav - Ruusunpunainen meri', 'description': 'This book serves as a diary of algae, exploring the beauty and diversity of marine life in the Baltic Sea, highlighting ecological insights and personal reflections.'}\n"
     ]
    },
    {
     "name": "stderr",
     "output_type": "stream",
     "text": [
      "Processing books:  80%|███████▉  | 105/132 [17:32<05:43, 12.73s/it]"
     ]
    },
    {
     "name": "stdout",
     "output_type": "stream",
     "text": [
      "{'author': 'Nathan Williams', 'year': '2016', 'title': 'The Kinfolk Entrepreneur: Ideas for Meaningful Work', 'description': 'This book offers insights and inspiration for creating a fulfilling career, emphasizing the importance of meaningful work and community in entrepreneurship.'}\n"
     ]
    },
    {
     "name": "stderr",
     "output_type": "stream",
     "text": [
      "Processing books:  80%|████████  | 106/132 [17:35<04:16,  9.87s/it]"
     ]
    },
    {
     "name": "stdout",
     "output_type": "stream",
     "text": [
      "{'author': None, 'year': None, 'title': 'The Lean Way to Create', 'description': 'This book provides hands-on tools for designing and validating new business concepts, focusing on creating loveable services and future-capable organizations.'}\n"
     ]
    },
    {
     "name": "stderr",
     "output_type": "stream",
     "text": [
      "Processing books:  81%|████████  | 107/132 [17:41<03:37,  8.69s/it]"
     ]
    },
    {
     "name": "stdout",
     "output_type": "stream",
     "text": [
      "{'author': None, 'year': None, 'title': 'The Four Seasons of Korea', 'description': \"This book explores the beauty and cultural significance of Korea's four distinct seasons, showcasing the landscapes, traditions, and activities that characterize each time of year.\"}\n"
     ]
    },
    {
     "name": "stderr",
     "output_type": "stream",
     "text": [
      "Processing books:  82%|████████▏ | 108/132 [17:43<02:45,  6.88s/it]"
     ]
    },
    {
     "name": "stdout",
     "output_type": "stream",
     "text": [
      "{'author': 'Philip Kotler, Gary Armstrong, Anders Parment', 'year': None, 'title': 'Marknadsföring teori, strategi och praktik', 'description': 'This book covers fundamental marketing theories, strategies, and practical applications, providing insights into effective marketing practices and consumer behavior.'}\n"
     ]
    },
    {
     "name": "stderr",
     "output_type": "stream",
     "text": [
      "Processing books:  83%|████████▎ | 109/132 [17:47<02:13,  5.79s/it]"
     ]
    },
    {
     "name": "stdout",
     "output_type": "stream",
     "text": [
      "{'author': None, 'year': '2015', 'title': 'The Slush 100 Start-Ups', 'description': 'This book highlights 100 innovative start-ups selected by top European investors, showcasing emerging trends and entrepreneurial insights from the Slush conference.'}\n"
     ]
    },
    {
     "name": "stderr",
     "output_type": "stream",
     "text": [
      "Processing books:  83%|████████▎ | 110/132 [17:50<01:50,  5.01s/it]"
     ]
    },
    {
     "name": "stdout",
     "output_type": "stream",
     "text": [
      "{'author': None, 'year': '2022', 'title': 'Dispatch vol 3', 'description': 'This volume chronicles significant events and stories from the year 2022, providing insights and reflections on various topics and experiences.'}\n"
     ]
    },
    {
     "name": "stderr",
     "output_type": "stream",
     "text": [
      "Processing books:  84%|████████▍ | 111/132 [17:54<01:36,  4.62s/it]"
     ]
    },
    {
     "name": "stdout",
     "output_type": "stream",
     "text": [
      "{'author': None, 'year': '2022', 'title': 'Dispatch vol 3', 'description': 'This volume chronicles significant events and stories from the year 2022, providing insights and reflections on the challenges and triumphs experienced throughout the year.'}\n"
     ]
    },
    {
     "name": "stderr",
     "output_type": "stream",
     "text": [
      "Processing books:  85%|████████▍ | 112/132 [17:57<01:23,  4.15s/it]"
     ]
    },
    {
     "name": "stdout",
     "output_type": "stream",
     "text": [
      "{'author': None, 'year': None, 'title': 'The Nordics Together - Uniting the Nordic Startup Ecosystem: Rising North Impact Fund 2016 - 2018', 'description': 'This book explores the collaboration within the Nordic startup ecosystem, highlighting the initiatives and impact of the Rising North Impact Fund from 2016 to 2018.'}\n",
      "Sleeping for 60 seconds. Counter: 110\n"
     ]
    },
    {
     "name": "stderr",
     "output_type": "stream",
     "text": [
      "Processing books:  86%|████████▌ | 113/132 [19:03<07:13, 22.83s/it]"
     ]
    },
    {
     "name": "stdout",
     "output_type": "stream",
     "text": [
      "{'author': None, 'year': None, 'title': 'Welcome to Finnish Design Thinking', 'description': 'This book explores the principles and practices of Finnish design thinking, emphasizing creativity, innovation, and user-centered design. It serves as a guide for integrating these concepts into various fields.'}\n"
     ]
    },
    {
     "name": "stderr",
     "output_type": "stream",
     "text": [
      "Processing books:  86%|████████▋ | 114/132 [19:06<05:04, 16.91s/it]"
     ]
    },
    {
     "name": "stdout",
     "output_type": "stream",
     "text": [
      "{'author': None, 'year': None, 'title': 'Welcome to Finnish Design Thinking', 'description': 'This book explores the principles and practices of Finnish design thinking, emphasizing innovation, user-centered design, and sustainability in creating impactful solutions.'}\n"
     ]
    },
    {
     "name": "stderr",
     "output_type": "stream",
     "text": [
      "Processing books:  87%|████████▋ | 115/132 [19:11<03:44, 13.23s/it]"
     ]
    },
    {
     "name": "stdout",
     "output_type": "stream",
     "text": [
      "{'author': None, 'year': None, 'title': 'Welcome to Finnish Design Thinking', 'description': 'This book explores the principles and practices of Finnish design thinking, emphasizing innovation, creativity, and user-centered design. It showcases how these concepts can be applied in various fields to enhance problem-solving and product development.'}\n"
     ]
    },
    {
     "name": "stderr",
     "output_type": "stream",
     "text": [
      "Processing books:  88%|████████▊ | 116/132 [19:13<02:39,  9.97s/it]"
     ]
    },
    {
     "name": "stdout",
     "output_type": "stream",
     "text": [
      "{'author': 'Jussi T. Koski', 'year': None, 'title': 'Infoähky', 'description': 'This book discusses the challenges of information overload in learning and organizational contexts, providing insights for educators, leaders, and researchers on managing information effectively.'}\n"
     ]
    },
    {
     "name": "stderr",
     "output_type": "stream",
     "text": [
      "Processing books:  89%|████████▊ | 117/132 [19:19<02:12,  8.82s/it]"
     ]
    },
    {
     "name": "stdout",
     "output_type": "stream",
     "text": [
      "{'author': 'Lilya Lagerbohm', 'year': None, 'title': 'Tunnista osaamisesi ja kirjoita täydellinen työhakemus', 'description': 'This workbook helps individuals identify their skills and write a comprehensive job application, enhancing their chances of securing employment.'}\n"
     ]
    },
    {
     "name": "stderr",
     "output_type": "stream",
     "text": [
      "Processing books:  89%|████████▉ | 118/132 [19:22<01:35,  6.85s/it]"
     ]
    },
    {
     "name": "stdout",
     "output_type": "stream",
     "text": [
      "{'author': None, 'year': None, 'title': 'welcome to finnish design thinking', 'description': 'This book explores the principles and practices of Finnish design thinking, emphasizing creativity, innovation, and user-centered design. It serves as a guide for integrating these concepts into various fields.'}\n"
     ]
    },
    {
     "name": "stderr",
     "output_type": "stream",
     "text": [
      "Processing books:  90%|█████████ | 119/132 [19:28<01:25,  6.61s/it]"
     ]
    },
    {
     "name": "stdout",
     "output_type": "stream",
     "text": [
      "{'author': None, 'year': None, 'title': 'welcome to finnish design thinking', 'description': 'This book explores the principles and practices of Finnish design thinking, emphasizing creativity, innovation, and user-centered design. It serves as a guide for integrating these concepts into various fields.'}\n"
     ]
    },
    {
     "name": "stderr",
     "output_type": "stream",
     "text": [
      "Processing books:  91%|█████████ | 120/132 [19:30<01:02,  5.22s/it]"
     ]
    },
    {
     "name": "stdout",
     "output_type": "stream",
     "text": [
      "{'author': None, 'year': None, 'title': 'welcome to finnish design thinking', 'description': \"This book explores the principles and practices of Finnish design thinking, emphasizing creativity, innovation, and user-centered design. It showcases various case studies and methodologies that highlight Finland's unique approach to design.\"}\n"
     ]
    },
    {
     "name": "stderr",
     "output_type": "stream",
     "text": [
      "Processing books:  92%|█████████▏| 121/132 [19:32<00:47,  4.34s/it]"
     ]
    },
    {
     "name": "stdout",
     "output_type": "stream",
     "text": [
      "{'author': None, 'year': None, 'title': 'WELCOME TO FINNISH DESIGN THINKING', 'description': 'This book explores the principles and practices of Finnish design thinking, emphasizing creativity, innovation, and user-centered design. It serves as a guide for integrating these concepts into various fields.'}\n"
     ]
    },
    {
     "name": "stderr",
     "output_type": "stream",
     "text": [
      "Processing books:  92%|█████████▏| 122/132 [19:34<00:37,  3.78s/it]"
     ]
    },
    {
     "name": "stdout",
     "output_type": "stream",
     "text": [
      "{'author': None, 'year': None, 'title': 'welcome to finnish design thinking', 'description': 'This book explores the principles and practices of Finnish design thinking, emphasizing creativity, innovation, and user-centered design. It serves as a guide for integrating these concepts into various fields.'}\n",
      "Sleeping for 60 seconds. Counter: 120\n"
     ]
    },
    {
     "name": "stderr",
     "output_type": "stream",
     "text": [
      "Processing books: 100%|██████████| 132/132 [20:37<00:00,  9.37s/it]"
     ]
    },
    {
     "name": "stdout",
     "output_type": "stream",
     "text": [
      "{'author': 'The Lunicorn', 'year': None, 'title': 'Startup Buzzword Dictionary', 'description': 'A humorous guide to the jargon and buzzwords commonly used in the startup world, helping readers navigate the often confusing language of entrepreneurship.'}\n"
     ]
    },
    {
     "name": "stderr",
     "output_type": "stream",
     "text": [
      "\n"
     ]
    }
   ],
   "source": [
    "counter = 0\n",
    "\n",
    "# Loop over books (limiting to first 3 for testing)\n",
    "for book_id, book_title, book_image in tqdm(books.values, desc=\"Processing books\"):\n",
    "    if not os.path.exists(book_image):\n",
    "        continue\n",
    "\n",
    "    try:\n",
    "        counter += 1\n",
    "\n",
    "        if counter % 10 == 0:\n",
    "            sleep(60)\n",
    "            print(f\"Sleeping for 60 seconds. Counter: {counter}\")\n",
    "        # Read and encode image in base64\n",
    "        with open(book_image, \"rb\") as image_file:\n",
    "            image_data = image_file.read()\n",
    "            encoded_image = base64.b64encode(image_data).decode()\n",
    "\n",
    "        # Prompt message\n",
    "        prompt_text = (\n",
    "            f'Book image is sent as attached file. '\n",
    "            f'Book title provided: \"{book_title}\". '\n",
    "            f'Please return a JSON object with keys \"author\", \"year\", \"title\", and \"description\". '\n",
    "            f'If some information is not available, use null for that field. '\n",
    "            f'If you are aware of the book, add a short summary of the book in the \"description\" field. Keep it short, maximum 50 words.'\n",
    "            f'Years is when the book was published for the first time. If you are not sure, use null.'\n",
    "\n",
    "        )\n",
    "\n",
    "        # GPT-4 Turbo with Vision call\n",
    "        response = client.chat.completions.create(\n",
    "            model=\"gpt-4o-mini-2024-07-18\",\n",
    "            messages=[\n",
    "                {\n",
    "                    \"role\": \"user\",\n",
    "                    \"content\": [\n",
    "                        {\"type\": \"text\", \"text\": prompt_text},\n",
    "                        {\"type\": \"image_url\", \"image_url\": {\"url\": f\"data:image/jpeg;base64,{encoded_image}\"}}\n",
    "                    ]\n",
    "                }\n",
    "            ],\n",
    "            temperature=0.0,\n",
    "            max_tokens=1000,\n",
    "            response_format={\n",
    "                \"type\": \"json_schema\",\n",
    "                \"json_schema\": {\n",
    "                    \"name\": \"book_info\",\n",
    "                    \"strict\": True,\n",
    "                    \"schema\": {\n",
    "                        \"type\": \"object\",\n",
    "                        \"properties\": {\n",
    "                            \"author\": {\"type\": [\"string\", \"null\"]},\n",
    "                            \"year\": {\"type\": [\"string\", \"null\"]},\n",
    "                            \"title\": {\"type\": [\"string\", \"null\"]},\n",
    "                            \"description\": {\"type\": [\"string\", \"null\"]}\n",
    "                        },\n",
    "                        \"required\": [\"author\", \"title\", \"description\", \"year\"],\n",
    "                        \"additionalProperties\": False\n",
    "                    }\n",
    "                }\n",
    "            }\n",
    "        )\n",
    "\n",
    "        try:\n",
    "            content = response.choices[0].message.content\n",
    "            fetched_data[book_id] = json.loads(content)\n",
    "            print(fetched_data[book_id])\n",
    "        except json.JSONDecodeError:\n",
    "            fetched_data[book_id] = {\"error\": \"Invalid JSON\", \"raw_response\": content}\n",
    "\n",
    "    except Exception as e:\n",
    "        fetched_data[book_id] = {\"error\": str(e)}\n",
    "\n",
    "# Save the results\n",
    "with open(\"fetched_books_metadata.json\", \"w\", encoding=\"utf-8\") as f:\n",
    "    json.dump(fetched_data, f, indent=2, ensure_ascii=False)\n"
   ]
  },
  {
   "cell_type": "code",
   "execution_count": 46,
   "metadata": {},
   "outputs": [
    {
     "data": {
      "text/plain": [
       "{1: {'author': 'M. Scott Peck, M.D.',\n",
       "  'year': '1978',\n",
       "  'title': 'The Road Less Traveled',\n",
       "  'description': 'This book explores the importance of self-discipline, love, and spiritual growth, offering insights into personal development and the challenges of life.'}}"
      ]
     },
     "execution_count": 46,
     "metadata": {},
     "output_type": "execute_result"
    }
   ],
   "source": [
    "fetched_data"
   ]
  },
  {
   "cell_type": "code",
   "execution_count": 49,
   "metadata": {},
   "outputs": [],
   "source": [
    "import json\n",
    "import pandas as pd\n",
    "\n",
    "def read_json_to_dataframe(file_path=\"fetched_books_metadata.json\"):\n",
    "    try:\n",
    "        # Read the JSON file\n",
    "        with open(file_path, \"r\", encoding=\"utf-8\") as f:\n",
    "            book_data = json.load(f)\n",
    "        \n",
    "        # Prepare data for DataFrame\n",
    "        rows = []\n",
    "        for book_id, book_info in book_data.items():\n",
    "            if isinstance(book_info, dict) and \"error\" not in book_info:\n",
    "                row = {\n",
    "                    \"book_id\": book_id,\n",
    "                    \"author\": book_info.get(\"author\"),\n",
    "                    \"year\": book_info.get(\"year\"),\n",
    "                    \"title\": book_info.get(\"title\"),\n",
    "                    \"description\": book_info.get(\"description\")\n",
    "                }\n",
    "                rows.append(row)\n",
    "        \n",
    "        # Create DataFrame\n",
    "        df = pd.DataFrame(rows)\n",
    "        \n",
    "        # Reorder columns\n",
    "        df = df[[\"book_id\", \"author\", \"year\", \"title\", \"description\"]]\n",
    "        \n",
    "        return df\n",
    "        \n",
    "    except FileNotFoundError:\n",
    "        print(f\"Error: File '{file_path}' not found.\")\n",
    "        return None\n",
    "    except json.JSONDecodeError:\n",
    "        print(f\"Error: File '{file_path}' is not a valid JSON file.\")\n",
    "        return None\n",
    "    except Exception as e:\n",
    "        print(f\"An error occurred: {str(e)}\")\n",
    "        return None"
   ]
  },
  {
   "cell_type": "code",
   "execution_count": 51,
   "metadata": {},
   "outputs": [
    {
     "data": {
      "text/html": [
       "<div>\n",
       "<style scoped>\n",
       "    .dataframe tbody tr th:only-of-type {\n",
       "        vertical-align: middle;\n",
       "    }\n",
       "\n",
       "    .dataframe tbody tr th {\n",
       "        vertical-align: top;\n",
       "    }\n",
       "\n",
       "    .dataframe thead th {\n",
       "        text-align: right;\n",
       "    }\n",
       "</style>\n",
       "<table border=\"1\" class=\"dataframe\">\n",
       "  <thead>\n",
       "    <tr style=\"text-align: right;\">\n",
       "      <th></th>\n",
       "      <th>book_id</th>\n",
       "      <th>author</th>\n",
       "      <th>year</th>\n",
       "      <th>title</th>\n",
       "      <th>description</th>\n",
       "    </tr>\n",
       "  </thead>\n",
       "  <tbody>\n",
       "    <tr>\n",
       "      <th>0</th>\n",
       "      <td>1</td>\n",
       "      <td>M. Scott Peck, M.D.</td>\n",
       "      <td>1978</td>\n",
       "      <td>The Road Less Traveled</td>\n",
       "      <td>This book explores the importance of self-disc...</td>\n",
       "    </tr>\n",
       "    <tr>\n",
       "      <th>1</th>\n",
       "      <td>2</td>\n",
       "      <td>Don Tapscott and Anthony D. Williams</td>\n",
       "      <td>2006</td>\n",
       "      <td>Wikinomics: How Mass Collaboration Changes Eve...</td>\n",
       "      <td>This book explores how mass collaboration thro...</td>\n",
       "    </tr>\n",
       "    <tr>\n",
       "      <th>2</th>\n",
       "      <td>3</td>\n",
       "      <td>Hemant Taneja with Kevin Maney</td>\n",
       "      <td>2021</td>\n",
       "      <td>Unscaled - How AI and a New Generation of Upst...</td>\n",
       "      <td>This book explores how AI and innovative start...</td>\n",
       "    </tr>\n",
       "    <tr>\n",
       "      <th>3</th>\n",
       "      <td>4</td>\n",
       "      <td>Petteri Kilpinen</td>\n",
       "      <td>None</td>\n",
       "      <td>Inspiroitunut</td>\n",
       "      <td>This book explores leadership and success in a...</td>\n",
       "    </tr>\n",
       "    <tr>\n",
       "      <th>4</th>\n",
       "      <td>5</td>\n",
       "      <td>Richard Carlson</td>\n",
       "      <td>None</td>\n",
       "      <td>älä hikeenny raha-asioista</td>\n",
       "      <td>This book offers practical advice on managing ...</td>\n",
       "    </tr>\n",
       "    <tr>\n",
       "      <th>...</th>\n",
       "      <td>...</td>\n",
       "      <td>...</td>\n",
       "      <td>...</td>\n",
       "      <td>...</td>\n",
       "      <td>...</td>\n",
       "    </tr>\n",
       "    <tr>\n",
       "      <th>111</th>\n",
       "      <td>119</td>\n",
       "      <td>None</td>\n",
       "      <td>None</td>\n",
       "      <td>welcome to finnish design thinking</td>\n",
       "      <td>This book explores the principles and practice...</td>\n",
       "    </tr>\n",
       "    <tr>\n",
       "      <th>112</th>\n",
       "      <td>120</td>\n",
       "      <td>None</td>\n",
       "      <td>None</td>\n",
       "      <td>welcome to finnish design thinking</td>\n",
       "      <td>This book explores the principles and practice...</td>\n",
       "    </tr>\n",
       "    <tr>\n",
       "      <th>113</th>\n",
       "      <td>121</td>\n",
       "      <td>None</td>\n",
       "      <td>None</td>\n",
       "      <td>WELCOME TO FINNISH DESIGN THINKING</td>\n",
       "      <td>This book explores the principles and practice...</td>\n",
       "    </tr>\n",
       "    <tr>\n",
       "      <th>114</th>\n",
       "      <td>122</td>\n",
       "      <td>None</td>\n",
       "      <td>None</td>\n",
       "      <td>welcome to finnish design thinking</td>\n",
       "      <td>This book explores the principles and practice...</td>\n",
       "    </tr>\n",
       "    <tr>\n",
       "      <th>115</th>\n",
       "      <td>132</td>\n",
       "      <td>The Lunicorn</td>\n",
       "      <td>None</td>\n",
       "      <td>Startup Buzzword Dictionary</td>\n",
       "      <td>A humorous guide to the jargon and buzzwords c...</td>\n",
       "    </tr>\n",
       "  </tbody>\n",
       "</table>\n",
       "<p>116 rows × 5 columns</p>\n",
       "</div>"
      ],
      "text/plain": [
       "    book_id                                author  year  \\\n",
       "0         1                   M. Scott Peck, M.D.  1978   \n",
       "1         2  Don Tapscott and Anthony D. Williams  2006   \n",
       "2         3        Hemant Taneja with Kevin Maney  2021   \n",
       "3         4                      Petteri Kilpinen  None   \n",
       "4         5                       Richard Carlson  None   \n",
       "..      ...                                   ...   ...   \n",
       "111     119                                  None  None   \n",
       "112     120                                  None  None   \n",
       "113     121                                  None  None   \n",
       "114     122                                  None  None   \n",
       "115     132                          The Lunicorn  None   \n",
       "\n",
       "                                                 title  \\\n",
       "0                               The Road Less Traveled   \n",
       "1    Wikinomics: How Mass Collaboration Changes Eve...   \n",
       "2    Unscaled - How AI and a New Generation of Upst...   \n",
       "3                                        Inspiroitunut   \n",
       "4                           älä hikeenny raha-asioista   \n",
       "..                                                 ...   \n",
       "111                 welcome to finnish design thinking   \n",
       "112                 welcome to finnish design thinking   \n",
       "113                 WELCOME TO FINNISH DESIGN THINKING   \n",
       "114                 welcome to finnish design thinking   \n",
       "115                        Startup Buzzword Dictionary   \n",
       "\n",
       "                                           description  \n",
       "0    This book explores the importance of self-disc...  \n",
       "1    This book explores how mass collaboration thro...  \n",
       "2    This book explores how AI and innovative start...  \n",
       "3    This book explores leadership and success in a...  \n",
       "4    This book offers practical advice on managing ...  \n",
       "..                                                 ...  \n",
       "111  This book explores the principles and practice...  \n",
       "112  This book explores the principles and practice...  \n",
       "113  This book explores the principles and practice...  \n",
       "114  This book explores the principles and practice...  \n",
       "115  A humorous guide to the jargon and buzzwords c...  \n",
       "\n",
       "[116 rows x 5 columns]"
      ]
     },
     "execution_count": 51,
     "metadata": {},
     "output_type": "execute_result"
    }
   ],
   "source": [
    "# Read JSON and create DataFrame\n",
    "df = read_json_to_dataframe()\n",
    "df.to_csv(\"books_dataframe.csv\", index=False)\n",
    "df"
   ]
  },
  {
   "cell_type": "code",
   "execution_count": 4,
   "metadata": {},
   "outputs": [],
   "source": [
    "import pandas as pd"
   ]
  },
  {
   "cell_type": "code",
   "execution_count": 7,
   "metadata": {},
   "outputs": [
    {
     "data": {
      "text/html": [
       "<div>\n",
       "<style scoped>\n",
       "    .dataframe tbody tr th:only-of-type {\n",
       "        vertical-align: middle;\n",
       "    }\n",
       "\n",
       "    .dataframe tbody tr th {\n",
       "        vertical-align: top;\n",
       "    }\n",
       "\n",
       "    .dataframe thead th {\n",
       "        text-align: right;\n",
       "    }\n",
       "</style>\n",
       "<table border=\"1\" class=\"dataframe\">\n",
       "  <thead>\n",
       "    <tr style=\"text-align: right;\">\n",
       "      <th></th>\n",
       "      <th>book_id</th>\n",
       "      <th>author</th>\n",
       "      <th>year</th>\n",
       "      <th>title</th>\n",
       "      <th>description</th>\n",
       "      <th>image</th>\n",
       "    </tr>\n",
       "  </thead>\n",
       "  <tbody>\n",
       "    <tr>\n",
       "      <th>0</th>\n",
       "      <td>1</td>\n",
       "      <td>M. Scott Peck, M.D.</td>\n",
       "      <td>1978.0</td>\n",
       "      <td>The Road Less Traveled</td>\n",
       "      <td>The book delves into self-discipline, love, an...</td>\n",
       "      <td>1.jpeg</td>\n",
       "    </tr>\n",
       "    <tr>\n",
       "      <th>1</th>\n",
       "      <td>2</td>\n",
       "      <td>Don Tapscott and Anthony D. Williams</td>\n",
       "      <td>2006.0</td>\n",
       "      <td>Wikinomics: How Mass Collaboration Changes Eve...</td>\n",
       "      <td>It examines how mass collaboration through the...</td>\n",
       "      <td>2.jpeg</td>\n",
       "    </tr>\n",
       "    <tr>\n",
       "      <th>2</th>\n",
       "      <td>3</td>\n",
       "      <td>Hemant Taneja with Kevin Maney</td>\n",
       "      <td>2021.0</td>\n",
       "      <td>Unscaled - How AI and a New Generation of Upst...</td>\n",
       "      <td>The book discusses how AI-driven startups are ...</td>\n",
       "      <td>3.jpeg</td>\n",
       "    </tr>\n",
       "    <tr>\n",
       "      <th>3</th>\n",
       "      <td>4</td>\n",
       "      <td>Petteri Kilpinen</td>\n",
       "      <td>2017.0</td>\n",
       "      <td>Inspiroitunut</td>\n",
       "      <td>The book focuses on leadership, motivation, an...</td>\n",
       "      <td>4.jpeg</td>\n",
       "    </tr>\n",
       "    <tr>\n",
       "      <th>4</th>\n",
       "      <td>5</td>\n",
       "      <td>Richard Carlson</td>\n",
       "      <td>2001.0</td>\n",
       "      <td>Älä hikeenny raha-asioista</td>\n",
       "      <td>The book provides practical advice on reducing...</td>\n",
       "      <td>5.jpeg</td>\n",
       "    </tr>\n",
       "    <tr>\n",
       "      <th>...</th>\n",
       "      <td>...</td>\n",
       "      <td>...</td>\n",
       "      <td>...</td>\n",
       "      <td>...</td>\n",
       "      <td>...</td>\n",
       "      <td>...</td>\n",
       "    </tr>\n",
       "    <tr>\n",
       "      <th>111</th>\n",
       "      <td>119</td>\n",
       "      <td>Edited by Pauliina Savolainen</td>\n",
       "      <td>2012.0</td>\n",
       "      <td>Welcome to Finnish Design Thinking</td>\n",
       "      <td>Delves into Finland's innovative design method...</td>\n",
       "      <td>119.jpeg</td>\n",
       "    </tr>\n",
       "    <tr>\n",
       "      <th>112</th>\n",
       "      <td>120</td>\n",
       "      <td>Edited by Pauliina Savolainen</td>\n",
       "      <td>2012.0</td>\n",
       "      <td>Welcome to Finnish Design Thinking</td>\n",
       "      <td>Delves into Finland's innovative design method...</td>\n",
       "      <td>120.jpeg</td>\n",
       "    </tr>\n",
       "    <tr>\n",
       "      <th>113</th>\n",
       "      <td>121</td>\n",
       "      <td>Edited by Pauliina Savolainen</td>\n",
       "      <td>2012.0</td>\n",
       "      <td>Welcome to Finnish Design Thinking</td>\n",
       "      <td>Delves into Finland's innovative design method...</td>\n",
       "      <td>121.jpeg</td>\n",
       "    </tr>\n",
       "    <tr>\n",
       "      <th>114</th>\n",
       "      <td>122</td>\n",
       "      <td>Edited by Pauliina Savolainen</td>\n",
       "      <td>2012.0</td>\n",
       "      <td>Welcome to Finnish Design Thinking</td>\n",
       "      <td>Delves into Finland's innovative design method...</td>\n",
       "      <td>122.jpeg</td>\n",
       "    </tr>\n",
       "    <tr>\n",
       "      <th>115</th>\n",
       "      <td>132</td>\n",
       "      <td>Matt C. Smith</td>\n",
       "      <td>2019.0</td>\n",
       "      <td>Startup Buzzword Dictionary</td>\n",
       "      <td>A humorous guide to the jargon and buzzwords c...</td>\n",
       "      <td>132.jpeg</td>\n",
       "    </tr>\n",
       "  </tbody>\n",
       "</table>\n",
       "<p>116 rows × 6 columns</p>\n",
       "</div>"
      ],
      "text/plain": [
       "     book_id                                author    year  \\\n",
       "0          1                   M. Scott Peck, M.D.  1978.0   \n",
       "1          2  Don Tapscott and Anthony D. Williams  2006.0   \n",
       "2          3        Hemant Taneja with Kevin Maney  2021.0   \n",
       "3          4                      Petteri Kilpinen  2017.0   \n",
       "4          5                       Richard Carlson  2001.0   \n",
       "..       ...                                   ...     ...   \n",
       "111      119         Edited by Pauliina Savolainen  2012.0   \n",
       "112      120         Edited by Pauliina Savolainen  2012.0   \n",
       "113      121         Edited by Pauliina Savolainen  2012.0   \n",
       "114      122         Edited by Pauliina Savolainen  2012.0   \n",
       "115      132                         Matt C. Smith  2019.0   \n",
       "\n",
       "                                                 title  \\\n",
       "0                               The Road Less Traveled   \n",
       "1    Wikinomics: How Mass Collaboration Changes Eve...   \n",
       "2    Unscaled - How AI and a New Generation of Upst...   \n",
       "3                                        Inspiroitunut   \n",
       "4                           Älä hikeenny raha-asioista   \n",
       "..                                                 ...   \n",
       "111                 Welcome to Finnish Design Thinking   \n",
       "112                 Welcome to Finnish Design Thinking   \n",
       "113                 Welcome to Finnish Design Thinking   \n",
       "114                 Welcome to Finnish Design Thinking   \n",
       "115                        Startup Buzzword Dictionary   \n",
       "\n",
       "                                           description     image  \n",
       "0    The book delves into self-discipline, love, an...    1.jpeg  \n",
       "1    It examines how mass collaboration through the...    2.jpeg  \n",
       "2    The book discusses how AI-driven startups are ...    3.jpeg  \n",
       "3    The book focuses on leadership, motivation, an...    4.jpeg  \n",
       "4    The book provides practical advice on reducing...    5.jpeg  \n",
       "..                                                 ...       ...  \n",
       "111  Delves into Finland's innovative design method...  119.jpeg  \n",
       "112  Delves into Finland's innovative design method...  120.jpeg  \n",
       "113  Delves into Finland's innovative design method...  121.jpeg  \n",
       "114  Delves into Finland's innovative design method...  122.jpeg  \n",
       "115  A humorous guide to the jargon and buzzwords c...  132.jpeg  \n",
       "\n",
       "[116 rows x 6 columns]"
      ]
     },
     "execution_count": 7,
     "metadata": {},
     "output_type": "execute_result"
    }
   ],
   "source": [
    "df = pd.read_csv(\"books/books.csv\")\n",
    "df"
   ]
  },
  {
   "cell_type": "code",
   "execution_count": 8,
   "metadata": {},
   "outputs": [
    {
     "data": {
      "text/html": [
       "<div>\n",
       "<style scoped>\n",
       "    .dataframe tbody tr th:only-of-type {\n",
       "        vertical-align: middle;\n",
       "    }\n",
       "\n",
       "    .dataframe tbody tr th {\n",
       "        vertical-align: top;\n",
       "    }\n",
       "\n",
       "    .dataframe thead th {\n",
       "        text-align: right;\n",
       "    }\n",
       "</style>\n",
       "<table border=\"1\" class=\"dataframe\">\n",
       "  <thead>\n",
       "    <tr style=\"text-align: right;\">\n",
       "      <th></th>\n",
       "      <th>book_id</th>\n",
       "      <th>author</th>\n",
       "      <th>year</th>\n",
       "      <th>title</th>\n",
       "      <th>description</th>\n",
       "      <th>image</th>\n",
       "    </tr>\n",
       "  </thead>\n",
       "  <tbody>\n",
       "    <tr>\n",
       "      <th>0</th>\n",
       "      <td>1</td>\n",
       "      <td>M. Scott Peck, M.D.</td>\n",
       "      <td>1978.0</td>\n",
       "      <td>The Road Less Traveled</td>\n",
       "      <td>The book delves into self-discipline, love, an...</td>\n",
       "      <td>1.jpg</td>\n",
       "    </tr>\n",
       "    <tr>\n",
       "      <th>1</th>\n",
       "      <td>2</td>\n",
       "      <td>Don Tapscott and Anthony D. Williams</td>\n",
       "      <td>2006.0</td>\n",
       "      <td>Wikinomics: How Mass Collaboration Changes Eve...</td>\n",
       "      <td>It examines how mass collaboration through the...</td>\n",
       "      <td>2.jpg</td>\n",
       "    </tr>\n",
       "    <tr>\n",
       "      <th>2</th>\n",
       "      <td>3</td>\n",
       "      <td>Hemant Taneja with Kevin Maney</td>\n",
       "      <td>2021.0</td>\n",
       "      <td>Unscaled - How AI and a New Generation of Upst...</td>\n",
       "      <td>The book discusses how AI-driven startups are ...</td>\n",
       "      <td>3.jpg</td>\n",
       "    </tr>\n",
       "    <tr>\n",
       "      <th>3</th>\n",
       "      <td>4</td>\n",
       "      <td>Petteri Kilpinen</td>\n",
       "      <td>2017.0</td>\n",
       "      <td>Inspiroitunut</td>\n",
       "      <td>The book focuses on leadership, motivation, an...</td>\n",
       "      <td>4.jpg</td>\n",
       "    </tr>\n",
       "    <tr>\n",
       "      <th>4</th>\n",
       "      <td>5</td>\n",
       "      <td>Richard Carlson</td>\n",
       "      <td>2001.0</td>\n",
       "      <td>Älä hikeenny raha-asioista</td>\n",
       "      <td>The book provides practical advice on reducing...</td>\n",
       "      <td>5.jpg</td>\n",
       "    </tr>\n",
       "    <tr>\n",
       "      <th>...</th>\n",
       "      <td>...</td>\n",
       "      <td>...</td>\n",
       "      <td>...</td>\n",
       "      <td>...</td>\n",
       "      <td>...</td>\n",
       "      <td>...</td>\n",
       "    </tr>\n",
       "    <tr>\n",
       "      <th>111</th>\n",
       "      <td>119</td>\n",
       "      <td>Edited by Pauliina Savolainen</td>\n",
       "      <td>2012.0</td>\n",
       "      <td>Welcome to Finnish Design Thinking</td>\n",
       "      <td>Delves into Finland's innovative design method...</td>\n",
       "      <td>119.jpg</td>\n",
       "    </tr>\n",
       "    <tr>\n",
       "      <th>112</th>\n",
       "      <td>120</td>\n",
       "      <td>Edited by Pauliina Savolainen</td>\n",
       "      <td>2012.0</td>\n",
       "      <td>Welcome to Finnish Design Thinking</td>\n",
       "      <td>Delves into Finland's innovative design method...</td>\n",
       "      <td>120.jpg</td>\n",
       "    </tr>\n",
       "    <tr>\n",
       "      <th>113</th>\n",
       "      <td>121</td>\n",
       "      <td>Edited by Pauliina Savolainen</td>\n",
       "      <td>2012.0</td>\n",
       "      <td>Welcome to Finnish Design Thinking</td>\n",
       "      <td>Delves into Finland's innovative design method...</td>\n",
       "      <td>121.jpg</td>\n",
       "    </tr>\n",
       "    <tr>\n",
       "      <th>114</th>\n",
       "      <td>122</td>\n",
       "      <td>Edited by Pauliina Savolainen</td>\n",
       "      <td>2012.0</td>\n",
       "      <td>Welcome to Finnish Design Thinking</td>\n",
       "      <td>Delves into Finland's innovative design method...</td>\n",
       "      <td>122.jpg</td>\n",
       "    </tr>\n",
       "    <tr>\n",
       "      <th>115</th>\n",
       "      <td>132</td>\n",
       "      <td>Matt C. Smith</td>\n",
       "      <td>2019.0</td>\n",
       "      <td>Startup Buzzword Dictionary</td>\n",
       "      <td>A humorous guide to the jargon and buzzwords c...</td>\n",
       "      <td>132.jpg</td>\n",
       "    </tr>\n",
       "  </tbody>\n",
       "</table>\n",
       "<p>116 rows × 6 columns</p>\n",
       "</div>"
      ],
      "text/plain": [
       "     book_id                                author    year  \\\n",
       "0          1                   M. Scott Peck, M.D.  1978.0   \n",
       "1          2  Don Tapscott and Anthony D. Williams  2006.0   \n",
       "2          3        Hemant Taneja with Kevin Maney  2021.0   \n",
       "3          4                      Petteri Kilpinen  2017.0   \n",
       "4          5                       Richard Carlson  2001.0   \n",
       "..       ...                                   ...     ...   \n",
       "111      119         Edited by Pauliina Savolainen  2012.0   \n",
       "112      120         Edited by Pauliina Savolainen  2012.0   \n",
       "113      121         Edited by Pauliina Savolainen  2012.0   \n",
       "114      122         Edited by Pauliina Savolainen  2012.0   \n",
       "115      132                         Matt C. Smith  2019.0   \n",
       "\n",
       "                                                 title  \\\n",
       "0                               The Road Less Traveled   \n",
       "1    Wikinomics: How Mass Collaboration Changes Eve...   \n",
       "2    Unscaled - How AI and a New Generation of Upst...   \n",
       "3                                        Inspiroitunut   \n",
       "4                           Älä hikeenny raha-asioista   \n",
       "..                                                 ...   \n",
       "111                 Welcome to Finnish Design Thinking   \n",
       "112                 Welcome to Finnish Design Thinking   \n",
       "113                 Welcome to Finnish Design Thinking   \n",
       "114                 Welcome to Finnish Design Thinking   \n",
       "115                        Startup Buzzword Dictionary   \n",
       "\n",
       "                                           description    image  \n",
       "0    The book delves into self-discipline, love, an...    1.jpg  \n",
       "1    It examines how mass collaboration through the...    2.jpg  \n",
       "2    The book discusses how AI-driven startups are ...    3.jpg  \n",
       "3    The book focuses on leadership, motivation, an...    4.jpg  \n",
       "4    The book provides practical advice on reducing...    5.jpg  \n",
       "..                                                 ...      ...  \n",
       "111  Delves into Finland's innovative design method...  119.jpg  \n",
       "112  Delves into Finland's innovative design method...  120.jpg  \n",
       "113  Delves into Finland's innovative design method...  121.jpg  \n",
       "114  Delves into Finland's innovative design method...  122.jpg  \n",
       "115  A humorous guide to the jargon and buzzwords c...  132.jpg  \n",
       "\n",
       "[116 rows x 6 columns]"
      ]
     },
     "execution_count": 8,
     "metadata": {},
     "output_type": "execute_result"
    }
   ],
   "source": [
    "df['image'] = df['book_id'].astype(str) + \".jpg\"\n",
    "\n",
    "df"
   ]
  },
  {
   "cell_type": "code",
   "execution_count": 11,
   "metadata": {},
   "outputs": [],
   "source": [
    "df['year'][df['year'].isna()==False] = df['year'][df['year'].isna()==False].astype(int).astype(str)\n",
    "df.to_csv(\"books/books.csv\", index=False)"
   ]
  }
 ],
 "metadata": {
  "kernelspec": {
   "display_name": ".venv",
   "language": "python",
   "name": "python3"
  },
  "language_info": {
   "codemirror_mode": {
    "name": "ipython",
    "version": 3
   },
   "file_extension": ".py",
   "mimetype": "text/x-python",
   "name": "python",
   "nbconvert_exporter": "python",
   "pygments_lexer": "ipython3",
   "version": "3.11.5"
  }
 },
 "nbformat": 4,
 "nbformat_minor": 2
}
